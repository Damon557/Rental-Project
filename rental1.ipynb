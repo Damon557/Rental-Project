{
 "cells": [
  {
   "cell_type": "code",
   "execution_count": 7,
   "metadata": {},
   "outputs": [
    {
     "name": "stdout",
     "output_type": "stream",
     "text": [
      "Your total expenses are $1610\n",
      "This is your yearly cash flow $4680\n",
      "Your Roi is 9.36%\n",
      "Thank you. Have a good day.\n"
     ]
    }
   ],
   "source": [
    "class Rental_income():\n",
    "    def __init__(self):\n",
    "        self.invest = []\n",
    "        self.expenses = []\n",
    "        self.repairs = []\n",
    "        self.rental = []\n",
    "        self.cashFlow = []\n",
    "        self.totalInvestment = []\n",
    "        self.roi = []\n",
    "        \n",
    "        \n",
    "    def propert(self):\n",
    "\n",
    "        new_invest = int(input(\"How much was the down payment? \"))\n",
    "        closing_cost = int(input(\"How much was the closing cost? \"))\n",
    "        if new_invest not in self.invest:\n",
    "            self.invest.append(new_invest + closing_cost)\n",
    "        else:\n",
    "            print(\"No initial investment. \")\n",
    "\n",
    "    def input_cost(self):\n",
    "\n",
    "        new_HOA = int(input(\"How much is the Home Owners Assosiation fee? \"))\n",
    "        more_ex = int(input(\"How much is your mortgage payment? \"))\n",
    "        more_ex1 = int(input(\"How much are your misc expenses? \"))\n",
    "        if new_HOA not in self.expenses:\n",
    "            self.expenses.append(new_HOA + more_ex + more_ex1)\n",
    "            expenses1 = str(self.expenses)[1:-1]\n",
    "            print(f\"Your total expenses are ${expenses1}\")\n",
    "        else:\n",
    "            print(\"No Home owner Fees. \")\n",
    "\n",
    "    def rental_input(self):\n",
    "        new_rental = int(input(\"How much are you renting it out for? \"))\n",
    "        if new_rental not in self.rental:\n",
    "            self.rental.append(new_rental)\n",
    "        else:\n",
    "            print(\"Not renting out the property. \")\n",
    "\n",
    "    def repair_cost(self):\n",
    "        new_repair = int(input(\"How much was the rehab? \"))\n",
    "        if new_repair not in self.repairs:\n",
    "            self.repairs.append(new_repair)\n",
    "        else:\n",
    "            print(\"No repairs.\")\n",
    "\n",
    "    def roi_cost(self):\n",
    "        for j in range(1):\n",
    "            self.cashFlow.append((self.rental[j] - self.expenses[j])*12)\n",
    "            self.totalInvestment.append(self.invest[j] + self.repairs[j])\n",
    "            self.roi.append((self.cashFlow[j] / self.totalInvestment[j])*100)\n",
    "            cashFlow1 = str(self.cashFlow)[1:-1]\n",
    "            print(f\"This is your yearly cash flow ${cashFlow1}\")\n",
    "            roi1 = str(self.roi)[1:-1]\n",
    "            print(f\"Your Roi is {roi1}%\")\n",
    "            pass\n",
    "\n",
    "def run():\n",
    "    my_house = Rental_income()\n",
    "    \n",
    "    while True:\n",
    "            my_house.propert()\n",
    "            my_house.input_cost()\n",
    "            my_house.rental_input()\n",
    "            my_house.repair_cost()\n",
    "            my_house.roi_cost()\n",
    "            print(\"Thank you. Have a good day.\")\n",
    "            break\n",
    "       \n",
    "run()"
   ]
  }
 ],
 "metadata": {
  "kernelspec": {
   "display_name": "Python 3.9.13 64-bit",
   "language": "python",
   "name": "python3"
  },
  "language_info": {
   "codemirror_mode": {
    "name": "ipython",
    "version": 3
   },
   "file_extension": ".py",
   "mimetype": "text/x-python",
   "name": "python",
   "nbconvert_exporter": "python",
   "pygments_lexer": "ipython3",
   "version": "3.9.13"
  },
  "orig_nbformat": 4,
  "vscode": {
   "interpreter": {
    "hash": "11938c6bc6919ae2720b4d5011047913343b08a43b18698fd82dedb0d4417594"
   }
  }
 },
 "nbformat": 4,
 "nbformat_minor": 2
}
